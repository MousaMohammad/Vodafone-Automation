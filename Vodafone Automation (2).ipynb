{
 "cells": [
  {
   "cell_type": "markdown",
   "metadata": {},
   "source": [
    "### Importing"
   ]
  },
  {
   "cell_type": "code",
   "execution_count": 1,
   "metadata": {},
   "outputs": [],
   "source": [
    "import pyodbc "
   ]
  },
  {
   "cell_type": "markdown",
   "metadata": {},
   "source": [
    "### Connecting to DB"
   ]
  },
  {
   "cell_type": "code",
   "execution_count": 2,
   "metadata": {},
   "outputs": [],
   "source": [
    "conn = pyodbc.connect('Driver={SQL Server};'\n",
    "                      'Server=MousaPC;'\n",
    "                      'Database=Vodafone;'\n",
    "                      'Trusted_Connection=yes;')\n",
    "\n",
    "cursor = conn.cursor()"
   ]
  },
  {
   "cell_type": "markdown",
   "metadata": {},
   "source": [
    "#### Asking for ColName, Table names"
   ]
  },
  {
   "cell_type": "code",
   "execution_count": 5,
   "metadata": {},
   "outputs": [
    {
     "name": "stdout",
     "output_type": "stream",
     "text": [
      "Insert new column name: Address\n",
      "Insert development table name: Contract_Dev\n",
      "Insert production table name: Contract_Prd\n",
      "Insert source count: 5\n",
      "Insert column name to apply filters on (0 => no filter): 0\n",
      "Insert column name to apply Group by (0 => no grouping): s\n",
      "Insert the expected data type: (str/int)s\n"
     ]
    }
   ],
   "source": [
    "# function to get input of New Columns\n",
    "def getinput1():\n",
    "  colName = input (\"Insert new column name: \")\n",
    "  devTable = input (\"Insert development table name: \")\n",
    "  prodTable = input (\"Insert production table name: \")\n",
    "  keyCol = input (\"Key Column to make joins: \")\n",
    "  srcCount = input (\"Insert source count: \")\n",
    "  filterCol = input (\"Insert column name to apply filters on (0 => no filter): \")\n",
    "  if filterCol != \"0\":  \n",
    "      fromValue = input (\"From value: \")\n",
    "      toValue = input (\"To value: \")\n",
    "  else:\n",
    "    fromValue = \"0\";\n",
    "    toValue = \"0\";\n",
    "  groupByCol = input (\"Insert column name to apply Group by (0 => no grouping): \")\n",
    "  dataType = input (\"Insert the expected data type: (str/int)\")\n",
    "  # filter, n columns?\n",
    "    #if src count = 0 , use production count\n",
    "    # if src count != 0, use production count and src count\n",
    "  \n",
    "  return colName, devTable, prodTable, keyCol, srcCount, filterCol, fromValue, toValue, groupByCol, dataType\n",
    "\n",
    "colName, devTable, prodTable, keyCol, srcCount, filterCol,fromValue,toValue, groupByCol, dataType = getinput1()\n"
   ]
  },
  {
   "cell_type": "code",
   "execution_count": 89,
   "metadata": {},
   "outputs": [
    {
     "name": "stdout",
     "output_type": "stream",
     "text": [
      "devCount = []\n",
      "prdCount = []\n",
      "Source vs. Dev not Tamam\n"
     ]
    }
   ],
   "source": [
    "#Dev SQL\n",
    "sqlSelect = f\"SELECT COUNT(*) FROM {devTable} \"\n",
    "sqlFilter = \" \"\n",
    "sqlGroupBy = \" \"\n",
    "\n",
    "if filterCol != \"0\": #Filter Applied\n",
    "    sqlFilter = f\" WHERE {filterCol} BETWEEN '{fromValue}' AND '{toValue}' \"\n",
    "if groupByCol != \"0\": #Group By Applied\n",
    "    sqlGroupBy = f\" GROUP BY {groupByCol} \"\n",
    "sqlCommand = sqlSelect + sqlFilter + sqlGroupBy \n",
    "sqlCommand += \";\"\n",
    "cursor.execute(sqlCommand);\n",
    "devCount = cursor.fetchall()\n",
    "print(f\"devCount = {devCount}\")\n",
    "#Prod SQL\n",
    "sqlSelect = f\"SELECT COUNT(*) FROM {prodTable} \"\n",
    "sqlCommand = sqlSelect + sqlFilter + sqlGroupBy\n",
    "sqlCommand += \";\"\n",
    "cursor.execute(sqlCommand)\n",
    "prdCount = cursor.fetchall()\n",
    "print(f\"prdCount = {prdCount}\")\n",
    "#Output\n",
    "if srcCount != \"0\":\n",
    "    if srcCount == f\"{devCount}\":\n",
    "        print (\"Source vs. Dev Tamaaammm\")\n",
    "        print(\"\")\n",
    "    else: \n",
    "        print (\"Source vs. Dev not Tamam\")"
   ]
  },
  {
   "cell_type": "code",
   "execution_count": null,
   "metadata": {},
   "outputs": [],
   "source": [
    "error = (abs(devCount - prdCount)/prdCount)*100\n",
    "if error < 1:\n",
    "    print(\"Dev vs. Prod Tamam\")\n",
    "else:\n",
    "    print(f\"Error {error}\")"
   ]
  },
  {
   "cell_type": "markdown",
   "metadata": {},
   "source": [
    "#### Validation 3\n"
   ]
  },
  {
   "cell_type": "code",
   "execution_count": 7,
   "metadata": {},
   "outputs": [],
   "source": [
    "sqlCommand = f\"SELECT * INTO TempTable FROM {devTable}; ALTER TABLE TempTable DROP Column {colName}\"\n",
    "sqlCommand += \";\"\n",
    "cursor.execute(sqlCommand);"
   ]
  },
  {
   "cell_type": "markdown",
   "metadata": {},
   "source": [
    "#### Prod Minus DEV"
   ]
  },
  {
   "cell_type": "code",
   "execution_count": 14,
   "metadata": {},
   "outputs": [
    {
     "name": "stdout",
     "output_type": "stream",
     "text": [
      "Difference Not Zero: \n",
      "[('02145215  ', '444       ', '2021-08-07')]\n"
     ]
    }
   ],
   "source": [
    "sqlCommand =  f\" SELECT {prodTable}.* FROM {prodTable} LEFT JOIN TempTable ON ({prodTable}.{keyCol} = TempTable.{keyCol}) WHERE TempTable.MSISDN IS NULL\"\n",
    "cursor.execute(sqlCommand);\n",
    "rows = cursor.fetchall()\n",
    "if len(rows) > 0:\n",
    "    print(\"Difference Not Zero: \")\n",
    "    print(rows)\n",
    "else:\n",
    "    print(\"Production Minus DEV Zero!\")"
   ]
  },
  {
   "cell_type": "markdown",
   "metadata": {},
   "source": [
    "#### DEV Minus Prod"
   ]
  },
  {
   "cell_type": "code",
   "execution_count": 16,
   "metadata": {},
   "outputs": [
    {
     "name": "stdout",
     "output_type": "stream",
     "text": [
      "Difference Not Zero: \n",
      "[('0125545   ', '444       ', '2021-08-07'), ('01233541  ', '555       ', '2021-08-06')]\n"
     ]
    }
   ],
   "source": [
    "sqlCommand =  f\" SELECT TempTable.* FROM TempTable LEFT JOIN {prodTable} ON (TempTable.{keyCol} = {prodTable}.{keyCol}) WHERE {prodTable}.MSISDN IS NULL\"\n",
    "cursor.execute(sqlCommand);\n",
    "rows = cursor.fetchall()\n",
    "if len(rows) > 0:\n",
    "    print(\"Difference Not Zero: \")\n",
    "    print(rows)\n",
    "else:\n",
    "    print(\"Dev Minus Prod Zero!\")"
   ]
  },
  {
   "cell_type": "code",
   "execution_count": null,
   "metadata": {},
   "outputs": [],
   "source": []
  }
 ],
 "metadata": {
  "kernelspec": {
   "display_name": "Python 3",
   "language": "python",
   "name": "python3"
  },
  "language_info": {
   "codemirror_mode": {
    "name": "ipython",
    "version": 3
   },
   "file_extension": ".py",
   "mimetype": "text/x-python",
   "name": "python",
   "nbconvert_exporter": "python",
   "pygments_lexer": "ipython3",
   "version": "3.6.5"
  }
 },
 "nbformat": 4,
 "nbformat_minor": 2
}
